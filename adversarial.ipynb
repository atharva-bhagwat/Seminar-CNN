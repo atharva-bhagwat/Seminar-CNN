{
 "cells": [
  {
   "cell_type": "code",
   "execution_count": 1,
   "metadata": {},
   "outputs": [
    {
     "name": "stderr",
     "output_type": "stream",
     "text": [
      "Using TensorFlow backend.\n"
     ]
    }
   ],
   "source": [
    "from sklearn.model_selection import train_test_split\n",
    "import pandas as pd\n",
    "\n",
    "import numpy as np\n",
    "import keras\n",
    "from keras import backend\n",
    "from keras.models import load_model\n",
    "import tensorflow as tf\n",
    "\n",
    "from cleverhans.attacks import FastGradientMethod\n",
    "from cleverhans.attacks import BasicIterativeMethod\n",
    "from cleverhans.utils_keras import KerasModelWrapper\n",
    "\n",
    "from matplotlib import pyplot as plt\n",
    "import imageio\n",
    "\n",
    "# Set the matplotlib figure size\n",
    "plt.rc('figure', figsize = (12.0, 12.0))\n",
    "\n",
    "# Set the learning phase to false, the model is pre-trained.\n",
    "backend.set_learning_phase(False)\n",
    "keras_model = load_model('models/cnnmodel.hdf5')"
   ]
  },
  {
   "cell_type": "code",
   "execution_count": 2,
   "metadata": {},
   "outputs": [],
   "source": [
    "seed = 27\n",
    "\n",
    "raw_data = pd.read_csv(\"input/train.csv\")\n",
    "train, validate = train_test_split(raw_data, \n",
    "                                   test_size=0.1,\n",
    "                                   random_state = seed, \n",
    "                                   stratify = raw_data['label'])\n",
    "\n",
    "# Split into input (X) and output (Y) variables\n",
    "x_validation = validate.values[:,1:].reshape(4200,28,28, 1)\n",
    "y_validation = validate.values[:,0]"
   ]
  },
  {
   "cell_type": "code",
   "execution_count": 3,
   "metadata": {},
   "outputs": [
    {
     "name": "stdout",
     "output_type": "stream",
     "text": [
      "The normal validation accuracy is: 0.9938095238095238\n"
     ]
    }
   ],
   "source": [
    "tf.set_random_seed(1234)\n",
    "\n",
    "if keras.backend.image_dim_ordering() != 'tf':\n",
    "    keras.backend.set_image_dim_ordering('tf')\n",
    "    print(\"INFO: '~/.keras/keras.json' sets 'image_dim_ordering' to \"\n",
    "          \"'th', temporarily setting to 'tf'\")\n",
    "\n",
    "# Retrieve the tensorflow session\n",
    "sess =  backend.get_session()\n",
    "\n",
    "# Define input TF placeholder\n",
    "x = tf.placeholder(tf.float32, shape=(None, 28, 28, 1))\n",
    "y = tf.placeholder(tf.float32, shape=(None, 10))\n",
    "\n",
    "# Evaluate the model's accuracy on the validation data used in training\n",
    "x_validation = x_validation.astype('float32')\n",
    "x_validation /= 255\n",
    "\n",
    "pred = np.argmax(keras_model.predict(x_validation), axis = 1)\n",
    "acc =  np.mean(np.equal(pred, y_validation))\n",
    "\n",
    "print(\"The normal validation accuracy is: {}\".format(acc))"
   ]
  },
  {
   "cell_type": "code",
   "execution_count": 26,
   "metadata": {},
   "outputs": [
    {
     "name": "stderr",
     "output_type": "stream",
     "text": [
      "[INFO 2019-03-27 13:12:28,082 cleverhans] Constructing new graph for attack FastGradientMethod\n"
     ]
    },
    {
     "name": "stdout",
     "output_type": "stream",
     "text": [
      "The adversarial validation accuracy is: 0.0988095238095238\n"
     ]
    }
   ],
   "source": [
    "wrap = KerasModelWrapper(keras_model)\n",
    "fgsm = FastGradientMethod(wrap, sess=sess)\n",
    "fgsm_params = {'eps': 0.3,\n",
    "               'clip_min': 0.,\n",
    "               'clip_max': 1.}\n",
    "adv_x = fgsm.generate_np(x_validation, **fgsm_params)\n",
    "\n",
    "adv_pred = np.argmax(keras_model.predict(adv_x), axis = 1)\n",
    "adv_acc =  np.mean(np.equal(adv_pred, y_validation))\n",
    "\n",
    "print(\"The adversarial validation accuracy is: {}\".format(adv_acc))"
   ]
  },
  {
   "cell_type": "code",
   "execution_count": 27,
   "metadata": {},
   "outputs": [
    {
     "data": {
      "image/png": "[encoded data removed]",
      "text/plain": [
       "<Figure size 432x288 with 1 Axes>"
      ]
     },
     "metadata": {
      "needs_background": "light"
     },
     "output_type": "display_data"
    }
   ],
   "source": [
    "def stitch_images(images, y_img_count, x_img_count, margin = 2):\n",
    "    \n",
    "    # Dimensions of the images\n",
    "    img_width = images[0].shape[0]\n",
    "    img_height = images[0].shape[1]\n",
    "    \n",
    "    width = y_img_count * img_width + (y_img_count - 1) * margin\n",
    "    height = x_img_count * img_height + (x_img_count - 1) * margin\n",
    "    stitched_images = np.zeros((width, height, 3))\n",
    "\n",
    "    # Fill the picture with our saved filters\n",
    "    for i in range(y_img_count):\n",
    "        for j in range(x_img_count):\n",
    "            img = images[i * x_img_count + j]\n",
    "            if len(img.shape) == 2:\n",
    "                img = np.dstack([img] * 3)\n",
    "            stitched_images[(img_width + margin) * i: (img_width + margin) * i + img_width,\n",
    "                            (img_height + margin) * j: (img_height + margin) * j + img_height, :] = img\n",
    "\n",
    "    return stitched_images\n",
    "\n",
    "x_sample = x_validation[0].reshape(28, 28)\n",
    "adv_x_sample = adv_x[0].reshape(28, 28)\n",
    "\n",
    "adv_comparison = stitch_images([x_sample, adv_x_sample], 1, 2)\n",
    "\n",
    "plt.imshow(adv_comparison)\n",
    "plt.show()"
   ]
  },
  {
   "cell_type": "code",
   "execution_count": 28,
   "metadata": {},
   "outputs": [
    {
     "name": "stdout",
     "output_type": "stream",
     "text": [
      "The normal digit is predicted to be a [7]\n",
      "The adversarial example digit is predicted to be an [2]\n"
     ]
    }
   ],
   "source": [
    "normal_digit_img = x_sample.reshape(1, 28, 28, 1)\n",
    "adv_digit_img = adv_x_sample.reshape(1, 28, 28, 1)\n",
    "\n",
    "normal_digit_pred = np.argmax(keras_model.predict(normal_digit_img), axis = 1)\n",
    "adv_digit_pred = np.argmax(keras_model.predict(adv_digit_img), axis = 1)\n",
    "\n",
    "print('The normal digit is predicted to be a {}'.format(normal_digit_pred))\n",
    "print('The adversarial example digit is predicted to be an {}'.format(adv_digit_pred))"
   ]
  },
  {
   "cell_type": "code",
   "execution_count": null,
   "metadata": {},
   "outputs": [],
   "source": []
  }
 ],
 "metadata": {
  "kernelspec": {
   "display_name": "Python 3",
   "language": "python",
   "name": "python3"
  },
  "language_info": {
   "codemirror_mode": {
    "name": "ipython",
    "version": 3
   },
   "file_extension": ".py",
   "mimetype": "text/x-python",
   "name": "python",
   "nbconvert_exporter": "python",
   "pygments_lexer": "ipython3",
   "version": "3.5.2"
  }
 },
 "nbformat": 4,
 "nbformat_minor": 2
}
